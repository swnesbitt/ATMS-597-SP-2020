{
 "cells": [
  {
   "cell_type": "markdown",
   "metadata": {},
   "source": [
    "# Project 3 test"
   ]
  },
  {
   "cell_type": "code",
   "execution_count": 1,
   "metadata": {},
   "outputs": [
    {
     "name": "stdout",
     "output_type": "stream",
     "text": [
      "Populating the interactive namespace from numpy and matplotlib\n"
     ]
    }
   ],
   "source": [
    "%pylab inline\n",
    "import xarray as xr\n",
    "import cartopy\n",
    "import requests\n",
    "import urllib\n",
    "from bs4 import BeautifulSoup\n",
    "import wget\n",
    "import os"
   ]
  },
  {
   "cell_type": "code",
   "execution_count": 2,
   "metadata": {},
   "outputs": [],
   "source": [
    "DATA_PATH = \"./project3_data/\"\n",
    "os.makedirs(\"./project3_data/\", exist_ok=True)\n",
    "gpcp_url = \"https://www.ncei.noaa.gov/data/global-precipitation-climatology-project-gpcp-daily/access/\""
   ]
  },
  {
   "cell_type": "code",
   "execution_count": 3,
   "metadata": {},
   "outputs": [],
   "source": [
    "def list_urls(parent_url):\n",
    "    site = urllib.request.urlopen(parent_url)\n",
    "    html = site.read()\n",
    "    soup = BeautifulSoup(html)\n",
    "    urls = soup.find_all(\"a\")\n",
    "    n_urls = len(urls)\n",
    "    return n_urls, urls"
   ]
  },
  {
   "cell_type": "code",
   "execution_count": 4,
   "metadata": {},
   "outputs": [],
   "source": [
    "def xr_concat(year_i, year_f):\n",
    "    ncs = []\n",
    "    for year in range(year_i, year_f+1):\n",
    "        list_files = os.listdir(DATA_PATH+str(year))\n",
    "        n_files = len(list_files)\n",
    "        for file in list_files:\n",
    "            nc = xr.load_dataset(DATA_PATH+str(year)+\"/\"+file)\n",
    "            ncs.append(nc)\n",
    "    ncs = xr.concat(ncs, dim=\"time\")\n",
    "    return ncs"
   ]
  },
  {
   "cell_type": "markdown",
   "metadata": {},
   "source": [
    "To download faster, try this, https://stackoverflow.com/questions/7577615/parallel-wget-in-bash/11850469#11850469"
   ]
  },
  {
   "cell_type": "code",
   "execution_count": null,
   "metadata": {},
   "outputs": [],
   "source": [
    "n_year_urls, year_urls = list_urls(gpcp_url)\n",
    "ncs = []\n",
    "for year in year_urls[5:]:\n",
    "    year_folder = DATA_PATH+year[\"href\"]\n",
    "    os.makedirs(year_folder, exist_ok=True)\n",
    "    n_urls, urls = list_urls(gpcp_url+year[\"href\"])\n",
    "    for i in range(5, n_urls):\n",
    "        wget.download(gpcp_url+year[\"href\"]+urls[i][\"href\"], out=year_folder)\n",
    "        nc = xr.load_dataset(DATA_PATH+year[\"href\"]+urls[i][\"href\"])\n",
    "        ncs.append(nc)\n",
    "ncs = xr.concat(ncs, dim=\"time\")\n",
    "ncs.to_netcdf(DATA_PATH+\"gpcp_v01r03_daily_d19961002_to_d20191130.nc\")"
   ]
  },
  {
   "cell_type": "code",
   "execution_count": null,
   "metadata": {},
   "outputs": [],
   "source": [
    "# Example\n",
    "nc = xr.load_dataset(\"./project3_data/1996/gpcp_v01r03_daily_d19961001_c20170530 (1).nc\")\n",
    "nc"
   ]
  },
  {
   "cell_type": "code",
   "execution_count": null,
   "metadata": {},
   "outputs": [],
   "source": []
  }
 ],
 "metadata": {
  "kernelspec": {
   "display_name": "Python [conda env:gpu] *",
   "language": "python",
   "name": "conda-env-gpu-py"
  },
  "language_info": {
   "codemirror_mode": {
    "name": "ipython",
    "version": 3
   },
   "file_extension": ".py",
   "mimetype": "text/x-python",
   "name": "python",
   "nbconvert_exporter": "python",
   "pygments_lexer": "ipython3",
   "version": "3.7.6"
  }
 },
 "nbformat": 4,
 "nbformat_minor": 4
}
