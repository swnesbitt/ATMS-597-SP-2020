{
 "cells": [
  {
   "cell_type": "markdown",
   "metadata": {},
   "source": [
    "# Project 3"
   ]
  },
  {
   "cell_type": "code",
   "execution_count": 1,
   "metadata": {},
   "outputs": [
    {
     "name": "stdout",
     "output_type": "stream",
     "text": [
      "Populating the interactive namespace from numpy and matplotlib\n"
     ]
    }
   ],
   "source": [
    "%pylab inline\n",
    "import xarray as xr\n",
    "import cartopy\n",
    "import requests\n",
    "import urllib\n",
    "from bs4 import BeautifulSoup\n",
    "import wget\n",
    "import os"
   ]
  },
  {
   "cell_type": "code",
   "execution_count": 2,
   "metadata": {},
   "outputs": [],
   "source": [
    "DATA_PATH = \"./project3_data/\"\n",
    "os.makedirs(\"./project3_data/\", exist_ok=True)\n",
    "gpcp_url = \"https://www.ncei.noaa.gov/data/global-precipitation-climatology-project-gpcp-daily/access/\""
   ]
  },
  {
   "cell_type": "code",
   "execution_count": 3,
   "metadata": {},
   "outputs": [],
   "source": [
    "def list_urls(parent_url):\n",
    "    site = urllib.request.urlopen(parent_url)\n",
    "    html = site.read()\n",
    "    soup = BeautifulSoup(html)\n",
    "    urls = soup.find_all(\"a\")\n",
    "    n_urls = len(urls)\n",
    "    return n_urls, urls"
   ]
  },
  {
   "cell_type": "code",
   "execution_count": 4,
   "metadata": {},
   "outputs": [],
   "source": [
    "def xr_concat(year_i, year_f):\n",
    "    ncs = []\n",
    "    for year in range(year_i, year_f+1):\n",
    "        list_files = os.listdir(DATA_PATH+str(year))\n",
    "        n_files = len(list_files)\n",
    "        for file in list_files:\n",
    "            nc = xr.load_dataset(DATA_PATH+str(year)+\"/\"+file)\n",
    "            ncs.append(nc)\n",
    "    ncs = xr.concat(ncs, dim=\"time\")\n",
    "    return ncs"
   ]
  },
  {
   "cell_type": "markdown",
   "metadata": {},
   "source": [
    "To download faster, try this, https://stackoverflow.com/questions/7577615/parallel-wget-in-bash/11850469#11850469"
   ]
  },
  {
   "cell_type": "code",
   "execution_count": 5,
   "metadata": {},
   "outputs": [],
   "source": [
    "# n_year_urls, year_urls = list_urls(gpcp_url)\n",
    "# ncs = []\n",
    "# for year in year_urls[5:]:\n",
    "#     year_folder = DATA_PATH+year[\"href\"]\n",
    "#     os.makedirs(year_folder, exist_ok=True)\n",
    "#     n_urls, urls = list_urls(gpcp_url+year[\"href\"])\n",
    "#     for i in range(5, n_urls):\n",
    "#         wget.download(gpcp_url+year[\"href\"]+urls[i][\"href\"], out=year_folder)\n",
    "#         nc = xr.load_dataset(DATA_PATH+year[\"href\"]+urls[i][\"href\"])\n",
    "#         ncs.append(nc)\n",
    "# ncs = xr.concat(ncs, dim=\"time\")\n",
    "# ncs.to_netcdf(DATA_PATH+\"gpcp_v01r03_daily_d19961002_to_d20191130.nc\")"
   ]
  },
  {
   "cell_type": "code",
   "execution_count": 6,
   "metadata": {},
   "outputs": [],
   "source": [
    "# Example\n",
    "ncs = xr.load_dataset(DATA_PATH+\"gpcp_v01r03_daily_d19961002_to_d20191130.nc\")\n",
    "ncs = ncs.where(ncs[\"precip\"]<1e+5)"
   ]
  },
  {
   "cell_type": "code",
   "execution_count": 12,
   "metadata": {},
   "outputs": [],
   "source": [
    "nc_SH = ncs[\"precip\"].sel(latitude=31.2304, longitude=121.4737, method=\"nearest\")\n",
    "nc_SH = nc_SH.dropna(dim=\"time\")"
   ]
  },
  {
   "cell_type": "code",
   "execution_count": 13,
   "metadata": {},
   "outputs": [
    {
     "data": {
      "text/html": [
       "<pre>&lt;xarray.DataArray &#x27;precip&#x27; (time: 2116)&gt;\n",
       "array([84.70848, 74.44618, 70.30133, ...,  0.     ,  0.     ,  0.     ],\n",
       "      dtype=float32)\n",
       "Coordinates:\n",
       "    latitude   float32 31.0\n",
       "    longitude  float32 121.0\n",
       "  * time       (time) datetime64[ns] 2005-08-06 2019-08-09 ... 1997-06-03\n",
       "Attributes:\n",
       "    long_name:      NOAA Climate Data Record (CDR) of Daily GPCP Satellite-Ga...\n",
       "    standard_name:  lwe_precipitation_rate\n",
       "    units:          mm/day\n",
       "    valid_range:    [  0. 100.]\n",
       "    cell_methods:   area: mean time: mean</pre>"
      ],
      "text/plain": [
       "<xarray.DataArray 'precip' (time: 2116)>\n",
       "array([84.70848, 74.44618, 70.30133, ...,  0.     ,  0.     ,  0.     ],\n",
       "      dtype=float32)\n",
       "Coordinates:\n",
       "    latitude   float32 31.0\n",
       "    longitude  float32 121.0\n",
       "  * time       (time) datetime64[ns] 2005-08-06 2019-08-09 ... 1997-06-03\n",
       "Attributes:\n",
       "    long_name:      NOAA Climate Data Record (CDR) of Daily GPCP Satellite-Ga...\n",
       "    standard_name:  lwe_precipitation_rate\n",
       "    units:          mm/day\n",
       "    valid_range:    [  0. 100.]\n",
       "    cell_methods:   area: mean time: mean"
      ]
     },
     "metadata": {},
     "output_type": "display_data"
    },
    {
     "data": {
      "text/html": [
       "<pre>&lt;xarray.DataArray &#x27;precip&#x27; ()&gt;\n",
       "array(32.70475006)\n",
       "Coordinates:\n",
       "    quantile  float64 0.95</pre>"
      ],
      "text/plain": [
       "<xarray.DataArray 'precip' ()>\n",
       "array(32.70475006)\n",
       "Coordinates:\n",
       "    quantile  float64 0.95"
      ]
     },
     "metadata": {},
     "output_type": "display_data"
    }
   ],
   "source": [
    "nc_SH_JJA = nc_SH.sel(time=nc_SH[\"time.season\"]==\"JJA\")\n",
    "nc_SH_JJA_95 = nc_SH_JJA.quantile(0.95)\n",
    "display(nc_SH_JJA.sortby(nc_SH_JJA, ascending=False), nc_SH_JJA_95)"
   ]
  },
  {
   "cell_type": "code",
   "execution_count": 20,
   "metadata": {},
   "outputs": [
    {
     "data": {
      "image/png": "[encoded data removed]",
      "text/plain": [
       "<Figure size 576x288 with 1 Axes>"
      ]
     },
     "metadata": {
      "needs_background": "light"
     },
     "output_type": "display_data"
    }
   ],
   "source": [
    "# Plot CDF\n",
    "fig, ax = plt.subplots(figsize=(8, 4))\n",
    "n, bins, patches = ax.hist(nc_SH, 10, density=True, histtype='step',\n",
    "                           cumulative=True, label='SH')"
   ]
  },
  {
   "cell_type": "code",
   "execution_count": 21,
   "metadata": {},
   "outputs": [
    {
     "ename": "ValueError",
     "evalue": "cannot unstack dimensions that do not have a MultiIndex: ['time']",
     "output_type": "error",
     "traceback": [
      "\u001b[1;31m---------------------------------------------------------------------------\u001b[0m",
      "\u001b[1;31mValueError\u001b[0m                                Traceback (most recent call last)",
      "\u001b[1;32m<ipython-input-21-dcd9249c4f19>\u001b[0m in \u001b[0;36m<module>\u001b[1;34m\u001b[0m\n\u001b[1;32m----> 1\u001b[1;33m \u001b[0mnc_SH\u001b[0m\u001b[1;33m.\u001b[0m\u001b[0munstack\u001b[0m\u001b[1;33m(\u001b[0m\u001b[1;34m\"time\"\u001b[0m\u001b[1;33m)\u001b[0m\u001b[1;33m\u001b[0m\u001b[1;33m\u001b[0m\u001b[0m\n\u001b[0m",
      "\u001b[1;32m~\\Anaconda3\\envs\\gpu\\lib\\site-packages\\xarray\\core\\dataarray.py\u001b[0m in \u001b[0;36munstack\u001b[1;34m(self, dim, fill_value, sparse)\u001b[0m\n\u001b[0;32m   1792\u001b[0m         \u001b[0mDataArray\u001b[0m\u001b[1;33m.\u001b[0m\u001b[0mstack\u001b[0m\u001b[1;33m\u001b[0m\u001b[1;33m\u001b[0m\u001b[0m\n\u001b[0;32m   1793\u001b[0m         \"\"\"\n\u001b[1;32m-> 1794\u001b[1;33m         \u001b[0mds\u001b[0m \u001b[1;33m=\u001b[0m \u001b[0mself\u001b[0m\u001b[1;33m.\u001b[0m\u001b[0m_to_temp_dataset\u001b[0m\u001b[1;33m(\u001b[0m\u001b[1;33m)\u001b[0m\u001b[1;33m.\u001b[0m\u001b[0munstack\u001b[0m\u001b[1;33m(\u001b[0m\u001b[0mdim\u001b[0m\u001b[1;33m,\u001b[0m \u001b[0mfill_value\u001b[0m\u001b[1;33m,\u001b[0m \u001b[0msparse\u001b[0m\u001b[1;33m)\u001b[0m\u001b[1;33m\u001b[0m\u001b[1;33m\u001b[0m\u001b[0m\n\u001b[0m\u001b[0;32m   1795\u001b[0m         \u001b[1;32mreturn\u001b[0m \u001b[0mself\u001b[0m\u001b[1;33m.\u001b[0m\u001b[0m_from_temp_dataset\u001b[0m\u001b[1;33m(\u001b[0m\u001b[0mds\u001b[0m\u001b[1;33m)\u001b[0m\u001b[1;33m\u001b[0m\u001b[1;33m\u001b[0m\u001b[0m\n\u001b[0;32m   1796\u001b[0m \u001b[1;33m\u001b[0m\u001b[0m\n",
      "\u001b[1;32m~\\Anaconda3\\envs\\gpu\\lib\\site-packages\\xarray\\core\\dataset.py\u001b[0m in \u001b[0;36munstack\u001b[1;34m(self, dim, fill_value, sparse)\u001b[0m\n\u001b[0;32m   3500\u001b[0m                 raise ValueError(\n\u001b[0;32m   3501\u001b[0m                     \u001b[1;34m\"cannot unstack dimensions that do not \"\u001b[0m\u001b[1;33m\u001b[0m\u001b[1;33m\u001b[0m\u001b[0m\n\u001b[1;32m-> 3502\u001b[1;33m                     \u001b[1;34m\"have a MultiIndex: %s\"\u001b[0m \u001b[1;33m%\u001b[0m \u001b[0mnon_multi_dims\u001b[0m\u001b[1;33m\u001b[0m\u001b[1;33m\u001b[0m\u001b[0m\n\u001b[0m\u001b[0;32m   3503\u001b[0m                 )\n\u001b[0;32m   3504\u001b[0m \u001b[1;33m\u001b[0m\u001b[0m\n",
      "\u001b[1;31mValueError\u001b[0m: cannot unstack dimensions that do not have a MultiIndex: ['time']"
     ]
    }
   ],
   "source": [
    "nc_SH.unstack(\"time\")"
   ]
  },
  {
   "cell_type": "code",
   "execution_count": null,
   "metadata": {},
   "outputs": [],
   "source": []
  }
 ],
 "metadata": {
  "kernelspec": {
   "display_name": "Python [conda env:gpu] *",
   "language": "python",
   "name": "conda-env-gpu-py"
  },
  "language_info": {
   "codemirror_mode": {
    "name": "ipython",
    "version": 3
   },
   "file_extension": ".py",
   "mimetype": "text/x-python",
   "name": "python",
   "nbconvert_exporter": "python",
   "pygments_lexer": "ipython3",
   "version": "3.7.6"
  }
 },
 "nbformat": 4,
 "nbformat_minor": 4
}
