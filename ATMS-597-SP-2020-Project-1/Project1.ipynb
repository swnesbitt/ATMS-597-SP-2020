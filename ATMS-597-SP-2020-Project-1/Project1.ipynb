{
  "nbformat": 4,
  "nbformat_minor": 0,
  "metadata": {
    "colab": {
      "name": "Project1.ipynb",
      "provenance": [],
      "include_colab_link": true
    },
    "kernelspec": {
      "name": "python3",
      "display_name": "Python 3"
    }
  },
  "cells": [
    {
      "cell_type": "markdown",
      "metadata": {
        "id": "view-in-github",
        "colab_type": "text"
      },
      "source": [
        "<a href=\"https://colab.research.google.com/github/JRLoveridge/ATMS-597-SP-2020/blob/Documentation/ATMS-597-SP-2020-Project-1/Project1.ipynb\" target=\"_parent\"><img src=\"https://colab.research.google.com/assets/colab-badge.svg\" alt=\"Open In Colab\"/></a>"
      ]
    },
    {
      "cell_type": "markdown",
      "metadata": {
        "id": "RvNloe8bevR8",
        "colab_type": "text"
      },
      "source": [
        "# **ATMS 597 SN Weather and Climate Data Sciencet**"
      ]
    },
    {
      "cell_type": "markdown",
      "metadata": {
        "id": "RFZrvQfne4GD",
        "colab_type": "text"
      },
      "source": [
        "<h1>Module 1: Project</h1>\n",
        "\n",
        "<h2>Part A: Convert temperatures interchangeably between degree Celsius, Farenheit and Kelvin </h2>\n",
        "<h3>Group H: Jesse Loveridge, Lina Rivelli-Zea, Xinchang Li</h3>"
      ]
    },
    {
      "cell_type": "code",
      "metadata": {
        "id": "FRGLRb2lenbr",
        "colab_type": "code",
        "outputId": "bb5760dc-60b9-4f73-c1a5-5c6c5a311b0f",
        "colab": {
          "base_uri": "https://localhost:8080/",
          "height": 34
        }
      },
      "source": [
        "import numpy as np\n",
        "\n",
        "class TemperatureConverter(object):\n",
        "    \"\"\"\n",
        "    Method to convert temperature interchangeably between \n",
        "    Farenheit, Celsius, and Kelvin. \n",
        "\n",
        "    Works with lists or numpy arrays as inputs, and returns \n",
        "    the same numerical type.\n",
        "    \n",
        "    J.Loveridge/L.RZ/X.Li 01.29.20\n",
        "    \"\"\"\n",
        "\n",
        "    def __init__(self, temperature, units='Kelvin'):\n",
        "        \"\"\"Stores a temperature and its type.\n",
        "      \n",
        "        Arguments:\n",
        "        temperature: #type float, list, int, np.ndarray\n",
        "        units: in Farenheit, Celsius or Kelvin #type: str\n",
        "        \"\"\"\n",
        "        assert units in ['Fahrenheit', 'Celsius', 'Kelvin'], 'Units must be valid.'\n",
        "        self._temperature = np.atleast_1d(temperature) #internally store numpy array.\n",
        "        self._units = units\n",
        "        if type(temperature) == int:         #convert int to float\n",
        "            temperature = float(temperature)\n",
        "        self._input_type = type(temperature) #preserve old input type/dtype\n",
        "\n",
        "    def set_temperature(self, temperature, units='Kelvin'):\n",
        "        \"\"\"Overwrites the stored temperature and its type.\n",
        "        \n",
        "        Arguments:\n",
        "        temperature:  #type float, list, int, np.ndarray\n",
        "        units: in Farenheit, Celsius or Kelvin #type: str\n",
        "        \"\"\"\n",
        "        \n",
        "        assert units in ['Fahrenheit', 'Celsius', 'Kelvin'], 'Units must be valid.'\n",
        "        self._temperature = np.atleast_1d(temperature)\n",
        "        self._units = units\n",
        "        if type(temperature) == int:\n",
        "            temperature = float(temperature)\n",
        "        self._input_type = type(temperature) #preserve old input type/dtype\n",
        "\n",
        "    def get_temperature(self, units='Kelvin'):\n",
        "        \"\"\"Converts the _temperature attribute to new units.\n",
        "        \n",
        "        Arguments:\n",
        "        units: in Farenheit, Celsius or Kelvin  #type: str\n",
        "        \n",
        "        Outputs:\n",
        "        final_temp: in Farenheit, Celsius or Kelvin  #type: float, list, np.ndarray\n",
        "        \"\"\"\n",
        "        assert units in ['Fahrenheit', 'Celsius', 'Kelvin'], 'Units must be valid.'     \n",
        "\n",
        "        if units == 'Fahrenheit':\n",
        "\n",
        "            converted_temp =  self.to_fahrenheit()\n",
        "        elif units == 'Celsius':\n",
        "            converted_temp =  self.to_celsius()\n",
        "        elif units == 'Kelvin':\n",
        "            converted_temp =  self.to_kelvin()\n",
        "\n",
        "        if self._input_type != type(converted_temp):\n",
        "            final_temp = self._input_type(converted_temp)\n",
        "        else:\n",
        "            final_temp = converted_temp\n",
        "            \n",
        "        return final_temp\n",
        "\n",
        "    def to_kelvin(self):\n",
        "        \"\"\"Internal function to convert a temperature of any units to Kelvin.\n",
        "        \n",
        "        Outputs:\n",
        "        returned_temperature= in  Kelvin #type: float, int, or list\n",
        "        \"\"\"\n",
        "\n",
        "        if self._units == 'Fahrenheit':\n",
        "            returned_temperature = (self._temperature + 459.67)*(5/9)\n",
        "        elif self._units == 'Celsius':\n",
        "            returned_temperature = self._temperature + 273.15\n",
        "        else:\n",
        "            returned_temperature = self._temperature\n",
        "\n",
        "\n",
        "        return returned_temperature\n",
        "  \n",
        "    def to_celsius(self):\n",
        "        \"\"\"Internal function to convert a temperature of any units to Celsius.\n",
        "        \n",
        "        Outputs:\n",
        "        returned_temperature= in  Celsius #type: float, int, or list\n",
        "        \"\"\"\n",
        "\n",
        "        if self._units == 'Fahrenheit':\n",
        "            returned_temperature = (self._temperature - 32) * (5/9)\n",
        "        elif self._units == 'Kelvin':\n",
        "            returned_temperature = self._temperature - 273.15\n",
        "\n",
        "        else:\n",
        "            returned_temperature = self._temperature\n",
        "\n",
        "        return returned_temperature\n",
        "\n",
        "    def to_fahrenheit(self):\n",
        "        \"\"\"Internal function to convert a temperature of any units to Farenheit.\n",
        "        \n",
        "        Outputs:\n",
        "        returned_temperature= in  Farenheit #type: float, int, or list\n",
        "        \"\"\"\n",
        "\n",
        "        if self._units == 'Celsius':\n",
        "            returned_temperature = self._temperature*(9/5) + 32\n",
        "        elif self._units == 'Kelvin':\n",
        "            returned_temperature = self._temperature*(9/5) - 459.67\n",
        "        else:    \n",
        "            returned_temperature = self._temperature\n",
        "\n",
        "        return returned_temperature\n",
        "    \n",
        "# define a 'TemperatureConverter' object with temperature data and its units\n",
        "temp_conv = TemperatureConverter([50,60.0,12830.0],units='Kelvin')\n",
        "\n",
        "# get temperature in new units using the 'get_temperature' method.\n",
        "new_temp = temp_conv.get_temperature(units='Kelvin')\n",
        "\n",
        "print(new_temp)"
      ],
      "execution_count": 3,
      "outputs": [
        {
          "output_type": "stream",
          "text": [
            "[50.0, 60.0, 12830.0]\n"
          ],
          "name": "stdout"
        }
      ]
    },
    {
      "cell_type": "code",
      "metadata": {
        "id": "osDntBz7fLu1",
        "colab_type": "code",
        "colab": {}
      },
      "source": [
        ""
      ],
      "execution_count": 0,
      "outputs": []
    }
  ]
}